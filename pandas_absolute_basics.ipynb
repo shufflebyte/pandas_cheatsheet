{
 "cells": [
  {
   "cell_type": "markdown",
   "metadata": {},
   "source": [
    "# Pandas Notes 1"
   ]
  },
  {
   "cell_type": "markdown",
   "metadata": {},
   "source": [
    "todo: loc and iloc stuff"
   ]
  },
  {
   "cell_type": "code",
   "execution_count": 1,
   "metadata": {},
   "outputs": [],
   "source": [
    "import pandas as pd"
   ]
  },
  {
   "cell_type": "markdown",
   "metadata": {},
   "source": [
    "## Pandas DataTypes\n",
    "### Series\n",
    "https://pandas.pydata.org/pandas-docs/stable/reference/api/pandas.Series.html\n",
    "\n",
    "A series is like an assosiative 1D array:\n",
    "![series](img/pandas_series.jpg)"
   ]
  },
  {
   "cell_type": "code",
   "execution_count": 2,
   "metadata": {},
   "outputs": [
    {
     "name": "stdout",
     "output_type": "stream",
     "text": [
      "0    1\n",
      "1    2\n",
      "2    3\n",
      "3    4\n",
      "4    5\n",
      "dtype: int64\n",
      "\n",
      "\n",
      "Flour     4 cups\n",
      "Milk       1 cup\n",
      "Eggs     2 large\n",
      "Spam       1 can\n",
      "Name: Dinner, dtype: object\n"
     ]
    }
   ],
   "source": [
    "# Easy series with integer indexing from 0 on\n",
    "series_numbers = pd.Series([1, 2, 3, 4, 5])\n",
    "print(series_numbers)\n",
    "print('\\n')\n",
    "# Series with associative indexing and name (see img)\n",
    "ingredients = pd.Series(['4 cups', '1 cup', '2 large', '1 can'], index=['Flour', 'Milk', 'Eggs', 'Spam'], name='Dinner')\n",
    "print(ingredients)"
   ]
  },
  {
   "cell_type": "markdown",
   "metadata": {},
   "source": [
    "### dataFrame\n",
    "https://pandas.pydata.org/pandas-docs/stable/reference/api/pandas.DataFrame.html\n",
    "\n",
    "A dataFrame is like an assosiative 2D array:\n",
    "![df](img/pandas_dataframe.jpg)\n",
    "Or you can say, a dataFrame consists of 1 ore more Series with the same indexing."
   ]
  },
  {
   "cell_type": "code",
   "execution_count": 3,
   "metadata": {},
   "outputs": [
    {
     "name": "stdout",
     "output_type": "stream",
     "text": [
      "            Apples  Bananas\n",
      "2017 Sales      35       21\n",
      "2018 Sales      41       34\n"
     ]
    }
   ],
   "source": [
    "fruit_sales = pd.DataFrame({'Apples': [35, 41], 'Bananas': [21,34]}, index=['2017 Sales', '2018 Sales'])\n",
    "print(fruit_sales)"
   ]
  },
  {
   "cell_type": "markdown",
   "metadata": {},
   "source": [
    "### Panel\n",
    "A series is like an assosiative 3D array. You can think of it as an cube with elements:\n",
    "![panel1](img/pandas_panel1.jpg)\n",
    "Another viewpoint is seeing it like an array of dataFrames. Like a dataFrame can be seen as an array of rows. Every row can be seen as a series.\n",
    "![panel2](img/pandas_panel2.jpg)"
   ]
  },
  {
   "cell_type": "markdown",
   "metadata": {},
   "source": [
    "## Manipulating data\n",
    "Rows/Data: append, delete, update<br>\n",
    "Columns: append, delete, update<br>\n",
    "Rename: index, column, Change index"
   ]
  },
  {
   "cell_type": "markdown",
   "metadata": {},
   "source": [
    "### Series"
   ]
  },
  {
   "cell_type": "code",
   "execution_count": 4,
   "metadata": {},
   "outputs": [
    {
     "name": "stdout",
     "output_type": "stream",
     "text": [
      "0         1\n",
      "1      Hugo\n",
      "2       555\n",
      "3         4\n",
      "4     Horst\n",
      "5         6\n",
      "6         7\n",
      "7         8\n",
      "8         6\n",
      "9         7\n",
      "10        8\n",
      "dtype: object\n",
      "Flour        4 cups\n",
      "Soy milk      1 cup\n",
      "Banana      1 large\n",
      "Berries       a few\n",
      "dtype: object\n"
     ]
    }
   ],
   "source": [
    "# Rows / Data\n",
    "series_numbers = pd.Series([1, 2, 3, 4, 5])\n",
    "second_series = pd.Series([6, 7, 8])\n",
    "\n",
    "series_numbers = series_numbers.append(second_series) # indices will be kept\n",
    "series_numbers = series_numbers.append(second_series, ignore_index=True) # indices will be ignored \n",
    "\n",
    "series_numbers.drop(series_numbers.index[[5, 6]])\n",
    "series_numbers[2] = 555\n",
    "series_numbers.update(pd.Series(['Hugo', 'Horst'], index=[1,4]))\n",
    "print(series_numbers)\n",
    "\n",
    "import numpy as np\n",
    "ingredients = pd.Series(['4 cups', '1 cup', '2 large', '1 can'], index=['Flour', 'Milk', 'Eggs', 'Spam'], name='Dinner')\n",
    "more_ingredients = pd.Series(['1 cup', '1 large', np.NaN], index=['Soy milk', 'Banana', 'Berries'])\n",
    "ingredients = ingredients.append(more_ingredients) # indices will be kept, ignore_index=True indices will be ignored\n",
    "ingredients = ingredients.drop(labels=['Milk', 'Eggs', 'Spam']) # these ingredients are not vegan ;-)\n",
    "ingredients.update(pd.Series({'Berries': 'a few'}))\n",
    "\n",
    "print(ingredients)"
   ]
  },
  {
   "cell_type": "markdown",
   "metadata": {},
   "source": [
    "### dataFrames\n",
    "#### Append"
   ]
  },
  {
   "cell_type": "code",
   "execution_count": 5,
   "metadata": {},
   "outputs": [
    {
     "name": "stdout",
     "output_type": "stream",
     "text": [
      "            Apples  Bananas\n",
      "2017 Sales      35       21\n",
      "2018 Sales      41       34\n",
      "2019 Sales       8       10\n"
     ]
    }
   ],
   "source": [
    "fruit_sales = pd.DataFrame({'Apples': [35, 41], 'Bananas': [21,34]}, index=['2017 Sales', '2018 Sales'])\n",
    "other_fruit_sales = pd.DataFrame({'Apples': [8], 'Bananas': [10]}, index=['2019 Sales'])\n",
    "fruit_sales = fruit_sales.append(other_fruit_sales)\n",
    "print(fruit_sales)"
   ]
  },
  {
   "cell_type": "markdown",
   "metadata": {},
   "source": [
    "#### Drop rows and colums"
   ]
  },
  {
   "cell_type": "code",
   "execution_count": 6,
   "metadata": {},
   "outputs": [
    {
     "name": "stdout",
     "output_type": "stream",
     "text": [
      "            Apples\n",
      "2017 Sales      35\n",
      "2019 Sales       8\n"
     ]
    }
   ],
   "source": [
    "fruit_sales = fruit_sales.drop(['2018 Sales']) # drop rows (axis 0)\n",
    "fruit_sales = fruit_sales.drop(['Bananas'], axis='columns') # drop columns or axis 1\n",
    "print(fruit_sales)"
   ]
  },
  {
   "cell_type": "markdown",
   "metadata": {},
   "source": [
    "#### Update Columns"
   ]
  },
  {
   "cell_type": "code",
   "execution_count": 7,
   "metadata": {},
   "outputs": [
    {
     "name": "stdout",
     "output_type": "stream",
     "text": [
      "            Apples\n",
      "2017 Sales    88.0\n",
      "2019 Sales     8.0\n"
     ]
    }
   ],
   "source": [
    "# For Updating, the indexing needs to be the same\n",
    "# because 2018 Sales do not exist in fruit_sales, it will not be updated here\n",
    "update_fruits = pd.DataFrame({'Apples': [88, 99]}, index=['2017 Sales', '2018 Sales'])\n",
    "fruit_sales.update(update_fruits)\n",
    "print(fruit_sales)"
   ]
  },
  {
   "cell_type": "markdown",
   "metadata": {},
   "source": [
    "#### Insert Columns"
   ]
  },
  {
   "cell_type": "code",
   "execution_count": 8,
   "metadata": {},
   "outputs": [
    {
     "name": "stdout",
     "output_type": "stream",
     "text": [
      "            Apples  SellId  Bananas\n",
      "2017 Sales      35  Sell01       21\n",
      "2018 Sales      41  Sell02       34\n"
     ]
    }
   ],
   "source": [
    "# Insert Column\n",
    "fruit_sales = pd.DataFrame({'Apples': [35, 41], 'Bananas': [21,34]}, index=['2017 Sales', '2018 Sales'])\n",
    "fruit_sales.insert(1, \"SellId\", ['Sell01', 'Sell02'], allow_duplicates=False)\n",
    "print(fruit_sales)"
   ]
  },
  {
   "cell_type": "code",
   "execution_count": 9,
   "metadata": {},
   "outputs": [
    {
     "name": "stdout",
     "output_type": "stream",
     "text": [
      "            Apples  SellId\n",
      "2017 Sales      35  Sell01\n",
      "2018 Sales      41  Sell02\n"
     ]
    }
   ],
   "source": [
    "# Delete Column\n",
    "fruit_sales = fruit_sales.drop('Bananas', axis='columns')\n",
    "print(fruit_sales)"
   ]
  },
  {
   "cell_type": "code",
   "execution_count": 10,
   "metadata": {},
   "outputs": [
    {
     "name": "stdout",
     "output_type": "stream",
     "text": [
      "            Cauliflowers  SellId\n",
      "2017 Sales            35  Sell01\n",
      "2018 Sales            41  Sell02\n"
     ]
    }
   ],
   "source": [
    "# Rename column\n",
    "fruit_sales = fruit_sales.rename(columns={'Apples': 'Cauliflowers'})\n",
    "print(fruit_sales)"
   ]
  },
  {
   "cell_type": "code",
   "execution_count": 11,
   "metadata": {},
   "outputs": [
    {
     "name": "stdout",
     "output_type": "stream",
     "text": [
      "            Cauliflowers  SellId\n",
      "2017 Sales            35  Sell01\n",
      "2020 Sales            41  Sell02\n"
     ]
    }
   ],
   "source": [
    "# Change a single index value\n",
    "as_list = fruit_sales.index.tolist()\n",
    "idx = as_list.index('2018 Sales')\n",
    "as_list[idx] = '2020 Sales'\n",
    "fruit_sales.index = as_list\n",
    "print(fruit_sales)"
   ]
  },
  {
   "cell_type": "code",
   "execution_count": 12,
   "metadata": {},
   "outputs": [
    {
     "name": "stdout",
     "output_type": "stream",
     "text": [
      "Index(['2017 Sales', '2020 Sales'], dtype='object')\n",
      "        Cauliflowers\n",
      "SellId              \n",
      "Sell01            35\n",
      "Sell02            41\n",
      "Index(['Sell01', 'Sell02'], dtype='object', name='SellId')\n"
     ]
    }
   ],
   "source": [
    "# Change Index (column)\n",
    "print(fruit_sales.index)\n",
    "fruit_sales = fruit_sales.set_index('SellId') # or inplace=True\n",
    "print(fruit_sales)\n",
    "print(fruit_sales.index)"
   ]
  }
 ],
 "metadata": {
  "kernelspec": {
   "display_name": "Python 3",
   "language": "python",
   "name": "python3"
  },
  "language_info": {
   "codemirror_mode": {
    "name": "ipython",
    "version": 3
   },
   "file_extension": ".py",
   "mimetype": "text/x-python",
   "name": "python",
   "nbconvert_exporter": "python",
   "pygments_lexer": "ipython3",
   "version": "3.7.5"
  }
 },
 "nbformat": 4,
 "nbformat_minor": 2
}
